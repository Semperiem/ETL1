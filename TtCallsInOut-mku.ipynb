{
 "cells": [
  {
   "cell_type": "code",
   "execution_count": 54,
   "metadata": {},
   "outputs": [],
   "source": [
    "import numpy as np\n",
    "import pandas as pd\n",
    "import xlwings as xw\n",
    "import datetime"
   ]
  },
  {
   "cell_type": "markdown",
   "metadata": {},
   "source": [
    "<b> Cập nhật link file path ở block dưới. </b>"
   ]
  },
  {
   "cell_type": "code",
   "execution_count": 55,
   "metadata": {},
   "outputs": [],
   "source": [
    "updated_day = 'dd/mmm/yy'\n",
    "gio_tre_sang = num_of_secs1\n",
    "gio_tre_chieu = num_of_secs2\n",
    "\n",
    "segments = [-1, 0, 1/24, 1.5/24, 2/24, 2.5/24, 3/24, 3.5/24, 4/24, 1]\n",
    "segments_name = ['0.0hr', '<1.0hr', '1.0hr-1.5hr', '1.5hr-2.0hr', '2.0hr-2.5hr', '2.5hr-3.0hr', '3.0hr-3.5hr', '3.5hr-4.0hr', '>=4.0hr']\n",
    "\n",
    "StaffList_file_path = input_file_path1\n",
    "Headcount_file_path = input_file_path2\n",
    "\n",
    "Talktime1_file_path = input_file_path3\n",
    "Login1_file_path = input_file_path4\n",
    "Calling1_file_path = input_file_path5\n",
    "\n",
    "output_file_path = output_file_path1"
   ]
  },
  {
   "cell_type": "markdown",
   "metadata": {},
   "source": [
    "### Read input files about Calling"
   ]
  },
  {
   "cell_type": "code",
   "execution_count": 56,
   "metadata": {},
   "outputs": [],
   "source": [
    "Talktime1 = pd.read_csv(Talktime1_file_path)\n",
    "Calling1 = pd.read_csv(Calling1_file_path)\n",
    "Login1 = pd.read_csv(Login1_file_path)"
   ]
  },
  {
   "cell_type": "markdown",
   "metadata": {},
   "source": [
    "### Read input files about Staffs"
   ]
  },
  {
   "cell_type": "code",
   "execution_count": 57,
   "metadata": {},
   "outputs": [],
   "source": [
    "DSNV = pd.read_excel(StaffList_file_path, sheet_name='StaffList', index_col=0, usecols=\"A:J,L,S:U,W,AD\")\n",
    "HC = pd.read_excel(Headcount_file_path, index_col=False, usecols='C,D,E,F,G,H,I,J,K')"
   ]
  },
  {
   "cell_type": "markdown",
   "metadata": {},
   "source": [
    "### Preprocess input files about Staffs"
   ]
  },
  {
   "cell_type": "code",
   "execution_count": 1,
   "metadata": {},
   "outputs": [],
   "source": [
    "# DSNV\n",
    "DSNV.loc[:,'Email'] = DSNV['Email'].str.strip()\n",
    "DSNV_newest = DSNV.loc[DSNV.UPDATED_DAY == updated_day]\n",
    "DSNV_newest.loc[:,'NAME'] = DSNV_newest['NAME'].str.strip()\n",
    "DSNV_newest.loc[:,'Email'] = DSNV_newest['Email'].str.strip()\n",
    "DSNV_newest.loc[:,'STATUS'] = DSNV_newest['STATUS'].str.strip()\n",
    "\n",
    "# HC\n",
    "HC['diem_danh'].fillna(0, inplace=True)"
   ]
  },
  {
   "cell_type": "markdown",
   "metadata": {},
   "source": [
    "### Preprocess input_file_1 about Calling"
   ]
  },
  {
   "cell_type": "code",
   "execution_count": 67,
   "metadata": {},
   "outputs": [],
   "source": [
    "Tt_raw = Talktime1\n",
    "\n",
    "Tt_filter_outbound = Tt_raw['Interaction Type'] == 'Outbound'\n",
    "\n",
    "Tt1 = Tt_raw[Tt_filter_outbound]\n",
    "\n",
    "Tt1[['Họ và tên lót', 'Tên và Emails']] = Tt1.loc[:,'Agent Name'].str.split(pat=\",\", expand=True)\n",
    "Tt1[['Tên', 'Emails']] = Tt1.loc[:,'Tên và Emails'].str.split(pat=\"(\", expand=True)\n",
    "Tt1.loc[:,'Họ và Tên'] = Tt1.loc[:,'Họ và tên lót'] + Tt1.loc[:,'Tên']\n",
    "Tt1.loc[:,'Họ và Tên'] = Tt1.loc[:,'Họ và Tên'].str.strip()\n",
    "Tt1.loc[:,'Emails'] = Tt1.loc[:,'Emails'].str.rstrip(')')\n",
    "Tt1.drop(columns=['Họ và tên lót', 'Tên và Emails', 'Tên', 'Agent Name', 'Interaction Type', 'Media Type'], axis=1, inplace=True)\n",
    "Tt1.drop_duplicates(inplace=True)"
   ]
  },
  {
   "cell_type": "markdown",
   "metadata": {},
   "source": [
    "### Preprocess input_file_2 about Calling"
   ]
  },
  {
   "cell_type": "code",
   "execution_count": 68,
   "metadata": {},
   "outputs": [],
   "source": [
    "Log1 = Login1\n",
    "\n",
    "Log1[['Họ và tên lót', 'Tên và Emails']] = Log1.loc[:,'Agent Name'].str.split(pat=\",\", expand=True)\n",
    "Log1[['Tên', 'Emails']] = Log1.loc[:,'Tên và Emails'].str.split(pat=\"(\", expand=True)\n",
    "Log1['Họ và Tên'] = Log1.loc[:,'Họ và tên lót'] + Log1.loc[:,'Tên']\n",
    "Log1.loc[:,'Họ và Tên'] = Log1.loc[:,'Họ và Tên'].str.strip()\n",
    "Log1.loc[:,'Emails'] = Log1.loc[:,'Emails'].str.rstrip(')')\n",
    "Log1.drop(columns=['Họ và tên lót', 'Tên và Emails', 'Tên', 'Agent Name', 'Agent Group', 'Media Type'], axis=1, inplace=True)\n",
    "Log1.drop_duplicates(subset=['Emails', 'Start Timestamp', 'End Timestamp'], keep='last', inplace=True)\n",
    "\n",
    "check_Log1 = Log1.merge(DSNV_newest, how = \"left\", left_on='Emails', right_on='Email')\n",
    "check_Log1.columns\n",
    "\n",
    "check_Log1 = check_Log1.drop(['CODE', 'MAP FUNNEL', 'USING CODE', 'POSITION', 'UPDATED_DAY'], axis=1)\n",
    "# check_Tt1.dropna(subset=['USING EXT'], inplace=True)\n",
    "check_Log1.fillna('na', inplace=True)\n",
    "check_Log1['Start Timestamp'] = pd.to_datetime(check_Log1['Start Timestamp'])\n",
    "check_Log1['End Timestamp'] = pd.to_datetime(check_Log1['End Timestamp'])\n",
    "\n",
    "\n",
    "login = Log1.groupby(['Day', 'Emails','Họ và Tên'])['Start Timestamp']\n",
    "login_time = login.min()\n",
    "login_time = pd.DataFrame(login_time)\n",
    "login_time.reset_index(inplace=True)\n",
    "\n",
    "logoff = Log1.groupby(['Day', 'Emails','Họ và Tên'])['End Timestamp']\n",
    "logoff_time = logoff.max()\n",
    "logoff_time = pd.DataFrame(logoff_time)\n",
    "logoff_time.reset_index(inplace=True)\n",
    "\n",
    "login_logoff_time = pd.merge(login_time, logoff_time, how='outer')\n",
    "# login_logoff_time = pd.concat([login_time, logoff_time], axis=1)\n",
    "# _, i = np.unique(login_logoff_time.columns, return_index=True)\n",
    "# login_logoff_time = login_logoff_time.iloc[:, i]\n",
    "\n",
    "login_logoff_time['End Timestamp'] = pd.to_datetime(login_logoff_time['End Timestamp'])\n",
    "login_logoff_time['Start Timestamp'] = pd.to_datetime(login_logoff_time['Start Timestamp'])\n",
    "login_logoff_time['Worktime'] = login_logoff_time['End Timestamp'] - login_logoff_time['Start Timestamp'] - pd.to_timedelta(1, unit='h')"
   ]
  },
  {
   "cell_type": "markdown",
   "metadata": {},
   "source": [
    "### Preprocess input_file_3 about Calling"
   ]
  },
  {
   "cell_type": "code",
   "execution_count": 69,
   "metadata": {},
   "outputs": [],
   "source": [
    "Calling = Calling1\n",
    "\n",
    "Calling_filter_outbound = Calling['Interaction Type'] == 'Outbound'\n",
    "Calling = Calling[Calling_filter_outbound]\n",
    "Calling.drop(['GUID', 'Interaction Type', 'From', 'TeamLeadName', 'Business Result', 'Customer ID'], axis=1, inplace=True)\n",
    "Calling['Start Timestamp'] = pd.to_datetime(Calling['Start Timestamp'])\n",
    "Calling['Calling Date'] = Calling['Start Timestamp'].dt.date\n",
    "\n",
    "Calling['after_12h'] = (Calling['Start Timestamp'] - pd.to_datetime(Calling['Start Timestamp'].dt.date)) > pd.to_timedelta(43200, unit='s')\n",
    "\n",
    "Calling.loc[(Calling['after_12h'] == False), '12h'] = 'Morning'\n",
    "Calling.loc[(Calling['after_12h'] == True), '12h'] = 'Afternoon'\n",
    "\n",
    "first_calls = Calling.groupby(['Calling Date', 'Handling Resource','12h'])['Start Timestamp']\n",
    "firstcalls = first_calls.min()\n",
    "firstcalls = pd.DataFrame(firstcalls)\n",
    "firstcalls.reset_index(inplace=True)\n",
    "\n",
    "A1 = firstcalls['12h'] == 'Morning'\n",
    "A2 = firstcalls['12h'] == 'Afternoon'\n",
    "\n",
    "B1 = (firstcalls['Start Timestamp'] - pd.to_datetime(firstcalls['Start Timestamp'].dt.date)) > pd.to_timedelta(gio_tre_sang, unit='s')\n",
    "B2 = (firstcalls['Start Timestamp'] - pd.to_datetime(firstcalls['Start Timestamp'].dt.date)) > pd.to_timedelta(gio_tre_chieu, unit='s')\n",
    "\n",
    "firstcalls.loc[A1 & B1 | A2 & B2, 'Tre'] = 'Trễ'"
   ]
  },
  {
   "cell_type": "markdown",
   "metadata": {},
   "source": [
    "### Process output_sheets for output_file"
   ]
  },
  {
   "cell_type": "code",
   "execution_count": 72,
   "metadata": {},
   "outputs": [],
   "source": [
    "# sheet Calling\n",
    "check_Calling1 = Calling.merge(DSNV_newest, how = \"left\", left_on='Handling Resource', right_on='Email')\n",
    "\n",
    "check_Calling1 = check_Calling1.drop(['CODE', 'MAP FUNNEL', 'USING CODE', 'POSITION', 'STATUS', 'UPDATED_DAY'], axis=1)\n",
    "                               \n",
    "# sheet check_Tt1\n",
    "check_Tt1 = Tt1.merge(DSNV_newest, how = \"left\", left_on='Emails', right_on='Email')\n",
    "\n",
    "check_Tt1 = check_Tt1.drop(['CODE', 'MAP FUNNEL', 'USING CODE', 'POSITION', 'STATUS', 'UPDATED_DAY'], axis=1)\n",
    "# check_Tt1.dropna(subset=['USING EXT'], inplace=True)\n",
    "check_Tt1.fillna('na', inplace=True)\n",
    "\n",
    "check_Tt1.rename(columns={'Accepted':'Answered Calls', 'Engage Time':'Talk Time'}, inplace=True)\n",
    "check_Tt1['Talk Time'] = check_Tt1['Talk Time']/(3600*24)\n",
    "check_Tt1['Day'] = pd.to_datetime(check_Tt1['Day'])\n",
    "\n",
    "\n",
    "check_Tt1_HC = pd.merge(check_Tt1, HC, how = 'left', left_on=['Day', 'WORKING_CODE'], right_on=['DATE', 'TSA CODE'])\n",
    "check_Tt1_HC.drop(['CAMPAIGNS', 'TEAMLEAD', 'SS', 'TSA CODE', 'DATE', 'STATUS', 'NOTE'], axis=1, inplace=True)\n",
    "check_Tt1 = check_Tt1[['Day', 'MNV', 'WORKING_CODE', 'Họ và Tên', 'Answered Calls', 'Talk Time', 'TYPE', 'USING EXT', 'TL', 'SUP', 'CAMPAIGN', 'Emails']]\n",
    "\n",
    "# check_Tt1_campaign_HCchinh\n",
    "check_Tt1_campaign_HCchinh = check_Tt1_HC[check_Tt1_HC.TYPE == 'HC chính'].pivot_table(index=['Day', 'CAMPAIGN', 'SUP'], values=['Talk Time', 'diem_danh'], aggfunc={'Talk Time':np.mean, 'diem_danh':'sum'})\n",
    "\n",
    "# check_Tt1_campaign_Backup\n",
    "check_Tt1_campaign_Backup = check_Tt1_HC[check_Tt1_HC.TYPE == 'Backup'].pivot_table(index=['Day', 'CAMPAIGN', 'SUP'], values=['Talk Time', 'diem_danh'], aggfunc={'Talk Time':np.mean, 'diem_danh':'sum'})\n",
    "\n",
    "# check_Tt1_segments_SUP & check_Tt1_segments_TL\n",
    "check_Tt1_HC['Phân khúc'] = pd.cut(check_Tt1['Talk Time'], segments , labels = segments_name)\n",
    "check_Tt1_HC['Phân khúc'].fillna('0.0hr', inplace=True)\n",
    "\n",
    "check_Tt1_segments_SUP = check_Tt1_HC[check_Tt1_HC.TYPE == 'HC chính'].pivot_table(index=['Day', 'SUP'], columns='Phân khúc', values='Talk Time', aggfunc=['count'])\n",
    "check_Tt1_segments_TL = check_Tt1_HC[check_Tt1_HC.TYPE == 'HC chính'].pivot_table(index=['Day', 'TL', 'SUP'], columns='Phân khúc', values='Talk Time', aggfunc=['count'])\n",
    "\n",
    "# sheet check_worktime\n",
    "check_worktime = login_logoff_time.merge(DSNV_newest, how = \"left\", left_on='Emails', right_on='Email')\n",
    "check_worktime = check_worktime.drop(['CODE', 'MAP FUNNEL', 'USING CODE', 'POSITION', 'UPDATED_DAY', 'Email'], axis=1)\n",
    "check_worktime.fillna('na', inplace=True)\n",
    "\n",
    "# sheet check_firstcalls \n",
    "check_firstcalls = firstcalls.merge(DSNV_newest, how = \"left\", left_on='Handling Resource', right_on='Email')\n",
    "check_firstcalls = check_firstcalls.drop(['CODE', 'MAP FUNNEL', 'USING CODE', 'POSITION', 'UPDATED_DAY', 'Email'], axis=1)\n",
    "check_firstcalls.fillna('na', inplace=True)\n",
    "\n",
    "# sheet check_tre\n",
    "check_tre = check_firstcalls[check_firstcalls.Tre == 'Trễ'].pivot_table(index=['Calling Date', 'CAMPAIGN', 'SUP'], values=['Handling Resource'], aggfunc='count')"
   ]
  },
  {
   "cell_type": "markdown",
   "metadata": {},
   "source": [
    "### Export output_file (Excel) with multiple sheets processed above"
   ]
  },
  {
   "cell_type": "code",
   "execution_count": 77,
   "metadata": {},
   "outputs": [],
   "source": [
    "with pd.ExcelWriter(output_file_path) as writer:\n",
    "    check_Tt1_segments_SUP.to_excel(writer, sheet_name='Phan khuc Tt theo SUP') # DONE\n",
    "    check_Tt1_segments_TL.to_excel(writer, sheet_name='Phan khuc Tt theo TL') # DONE\n",
    "    check_Tt1_campaign_HCchinh.to_excel(writer, sheet_name='Talktime_HCchinh') # DONE\n",
    "    check_Tt1_campaign_Backup.to_excel(writer, sheet_name='Talktime_Backup') # DONE\n",
    "    check_tre.to_excel(writer, sheet_name='Calls_Tre') # DONE\n",
    "    check_worktime.to_excel(writer, sheet_name='Login-Logoff') # DONE\n",
    "    check_firstcalls.to_excel(writer, sheet_name='First_Calls') # DONE\n",
    "    check_Tt1.to_excel(writer, sheet_name='Talktime_Database') # DONE    "
   ]
  }
 ],
 "metadata": {
  "kernelspec": {
   "display_name": "Python 3",
   "language": "python",
   "name": "python3"
  },
  "language_info": {
   "codemirror_mode": {
    "name": "ipython",
    "version": 3
   },
   "file_extension": ".py",
   "mimetype": "text/x-python",
   "name": "python",
   "nbconvert_exporter": "python",
   "pygments_lexer": "ipython3",
   "version": "3.7.7"
  }
 },
 "nbformat": 4,
 "nbformat_minor": 4
}
